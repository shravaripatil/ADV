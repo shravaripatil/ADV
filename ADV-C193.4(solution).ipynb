{
  "nbformat": 4,
  "nbformat_minor": 0,
  "metadata": {
    "colab": {
      "name": "Untitled1.ipynb",
      "provenance": [],
      "authorship_tag": "ABX9TyMRtCbKvv0ZlkEyc5xdlBNd",
      "include_colab_link": true
    },
    "kernelspec": {
      "name": "python3",
      "display_name": "Python 3"
    }
  },
  "cells": [
    {
      "cell_type": "markdown",
      "metadata": {
        "id": "view-in-github",
        "colab_type": "text"
      },
      "source": [
        "<a href=\"https://colab.research.google.com/github/shravaripatil/ADV/blob/main/ADV-C193.4(solution).ipynb\" target=\"_parent\"><img src=\"https://colab.research.google.com/assets/colab-badge.svg\" alt=\"Open In Colab\"/></a>"
      ]
    },
    {
      "cell_type": "code",
      "metadata": {
        "colab": {
          "base_uri": "https://localhost:8080/"
        },
        "id": "ysQWDTvV30ky",
        "outputId": "ebc84639-1b54-49ee-fe8b-8b9d056d51d9"
      },
      "source": [
        "#Additional-Activity-1\r\n",
        "# Task description - total number of people with cardiovascular disease\r\n",
        "\r\n",
        "import pandas as pd\r\n",
        "import matplotlib.pyplot as plt \r\n",
        "\r\n",
        "df = pd.read_csv('https://shravaripatil.github.io/ADV/AA/cardiovascular.csv')\r\n",
        "df\r\n",
        "\r\n",
        "\r\n",
        "# Selecting a particular section of data from the table - to learn more about indexing and selecting visit (https://www.geeksforgeeks.org/indexing-and-selecting-data-with-pandas/)\r\n",
        "''' As we want all the people who have cardiovascular disease therefore we will select a the column \"cardio\" as this column tells who has cardiovascular disease \r\n",
        "1- means has cardiovascular disease and 0 - means does not have cardiovascular disease to  check if which cell contain value as \"1\" and select those row for this \r\n",
        "syntax:\r\n",
        "df['column_name'] == 'Value'\r\n",
        "where df - is the variable which contains the table\r\n",
        "column_name - is the column against which you want to check the Value (hint - 'cardio')\r\n",
        "Value - the value which you want to get selected (Hint - 1)\r\n",
        "This will check if the entires in this coulmns are euqal to Values\r\n",
        "\r\n",
        "We want that all the rows which contain \"1\" entires in this \"cardio\" column to be selected then use - \r\n",
        "df.loc[] \r\n",
        "and pass data['column_name'] == 'Value' to it, as it will get all the rows which satisfy df['column_name'] == 'Value' this condition and store it in 'cardio_people' variable\r\n",
        "'''\r\n",
        "cardio_people = df.loc[df['cardio'] == 1]\r\n",
        "\r\n",
        "# Now count the number of rows in 'cardio_people' variable as this variable holds the table, \r\n",
        "# The the number of rows = number of people have cardiovascular disease as cardio_people variable only has entires(rows) of people who have cardiovascular disease.\r\n",
        "# Therefore we can select any column name from this table and as we want the total  number of rows for this we will be using \"count()\" function. (Hint: Select the column and the use dot operator with count() function, to select the column - write the variable holding table and give any column name(eg 'id') in double quotes inside the square brackets)\r\n",
        "cardio_people['id'].count()\r\n",
        "\r\n"
      ],
      "execution_count": null,
      "outputs": [
        {
          "output_type": "execute_result",
          "data": {
            "text/plain": [
              "19745"
            ]
          },
          "metadata": {
            "tags": []
          },
          "execution_count": 1
        }
      ]
    }
  ]
}