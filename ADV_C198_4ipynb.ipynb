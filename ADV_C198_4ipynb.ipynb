{
  "nbformat": 4,
  "nbformat_minor": 0,
  "metadata": {
    "colab": {
      "name": "ADV-C198_4ipynb",
      "provenance": [],
      "authorship_tag": "ABX9TyMoPJZkgTTL0Q3FsusEi8cl",
      "include_colab_link": true
    },
    "kernelspec": {
      "name": "python3",
      "display_name": "Python 3"
    }
  },
  "cells": [
    {
      "cell_type": "markdown",
      "metadata": {
        "id": "view-in-github",
        "colab_type": "text"
      },
      "source": [
        "<a href=\"https://colab.research.google.com/github/shravaripatil/ADV/blob/main/ADV_C198_4ipynb.ipynb\" target=\"_parent\"><img src=\"https://colab.research.google.com/assets/colab-badge.svg\" alt=\"Open In Colab\"/></a>"
      ]
    },
    {
      "cell_type": "code",
      "metadata": {
        "id": "c3CWfHzrdL_j"
      },
      "source": [
        "#Task Description : Sort the dataframe in descending order to get the 5 states with highest GDP in 2010 and 2014\r\n",
        "import pandas as pd\r\n",
        "import matplotlib.pyplot as plt \r\n",
        "\r\n",
        "pd.set_option('display.max_columns', None)\r\n",
        "df = pd.read_csv('https://shravaripatil.github.io/ADV/AA/Energy_Census_and_Economic_Data%20US_2010-2014.csv')\r\n",
        "df.head(10)\r\n",
        "\r\n",
        "# Sort the dataframe in descending order by 'GDP2010' column and store it in a variable as this column holds the total GDP in 2010 and sort this column in descending order will give rows who has high GDP in 2010 (Hint : Use df variable(as df variable holds the dataframe) with dot operator sort_values() function and pass 'GDP2010' column in string format and set the ascending parameter to False to sort the dataframe in descending order)\r\n",
        "\r\n",
        "# Get top 5 rows of the sorted by 'GDP2010' dataframe and store it in a variable (Hint - Use the variable holding the dataframe with dot operator and head() function pass integer 5 as we want to get the 1st 5 rows from the dataframe and store it in a variable )\r\n",
        "\r\n",
        "# Sort the dataframe in descending order by 'GDP2014' column and store it in a variable as this column holds the total GDP in 2014 and sort this column in descending order will give rows who has high GDP in 2014 (Hint : Use df variable(as df variable holds the dataframe) with dot operator sort_values() function and pass 'GDP2014' column in string format and set the ascending parameter to False to sort the dataframe in descending order)\r\n",
        "\r\n",
        "# Get top 5 rows of the sorted by 'GDP2014' dataframe and store it in a variable (Hint - Use the variable holding the dataframe with dot operator and head() function pass integer 5 as we want to get the 1st 5 rows from the dataframe and store it in a variable )\r\n"
      ],
      "execution_count": null,
      "outputs": []
    }
  ]
}