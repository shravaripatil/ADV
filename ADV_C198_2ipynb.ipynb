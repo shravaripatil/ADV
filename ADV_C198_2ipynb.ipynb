{
  "nbformat": 4,
  "nbformat_minor": 0,
  "metadata": {
    "colab": {
      "name": "ADV-C198_2ipynb",
      "provenance": [],
      "authorship_tag": "ABX9TyPfOIKwFfChl+cg+w5UFmRB",
      "include_colab_link": true
    },
    "kernelspec": {
      "name": "python3",
      "display_name": "Python 3"
    }
  },
  "cells": [
    {
      "cell_type": "markdown",
      "metadata": {
        "id": "view-in-github",
        "colab_type": "text"
      },
      "source": [
        "<a href=\"https://colab.research.google.com/github/shravaripatil/ADV/blob/main/ADV_C198_2ipynb.ipynb\" target=\"_parent\"><img src=\"https://colab.research.google.com/assets/colab-badge.svg\" alt=\"Open In Colab\"/></a>"
      ]
    },
    {
      "cell_type": "code",
      "metadata": {
        "id": "c3CWfHzrdL_j"
      },
      "source": [
        "#Task Description : Sort the dataframe in ascending order to get the 5 least energy consuming states in 2014\r\n",
        "import pandas as pd\r\n",
        "import matplotlib.pyplot as plt \r\n",
        "\r\n",
        "pd.set_option('display.max_columns', None)\r\n",
        "df = pd.read_csv('https://shravaripatil.github.io/ADV/AA/Energy_Census_and_Economic_Data%20US_2010-2014.csv')\r\n",
        "df.head(10)\r\n",
        "\r\n",
        "# Sort the dataframe in ascending order by 'TotalC2014' column and store it in a variable as this column holds the total energy consumed by states and sorting this column in ascending order will give rows who consumed very less energy (Hint : Use df variable(as df variable holds the dataframe) with dot operator sort_values() function and pass 'TotalC2014' column in string format by default sort_values() function sort the dataframe in ascending order)\r\n",
        "\r\n",
        "# Get top 5 rows of the sorted dataframe and store it in a variable (Hint - Use the variable holding the dataframe with dot operator and access the head() function and inside it pass integer 5 as we want to get the 1st 5 rows from the dataframe and store it in a variable )\r\n",
        "\r\n",
        "# Write the variable name to print the dataframe which holds 1st 5 rows of the sorted dataframe on the console\r\n"
      ],
      "execution_count": null,
      "outputs": []
    }
  ]
}