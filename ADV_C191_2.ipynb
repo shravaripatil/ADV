{
  "nbformat": 4,
  "nbformat_minor": 0,
  "metadata": {
    "colab": {
      "name": "ADV-C190.2.ipynb",
      "provenance": [],
      "collapsed_sections": [],
      "authorship_tag": "ABX9TyOC8RKWEKu6+Liu9rlKybcs",
      "include_colab_link": true
    },
    "kernelspec": {
      "name": "python3",
      "display_name": "Python 3"
    }
  },
  "cells": [
    {
      "cell_type": "markdown",
      "metadata": {
        "id": "view-in-github",
        "colab_type": "text"
      },
      "source": [
        "<a href=\"https://colab.research.google.com/github/shravaripatil/ADV/blob/main/ADV_C191_2.ipynb\" target=\"_parent\"><img src=\"https://colab.research.google.com/assets/colab-badge.svg\" alt=\"Open In Colab\"/></a>"
      ]
    },
    {
      "cell_type": "code",
      "metadata": {
        "id": "IUmO3VZBf9o_"
      },
      "source": [
        "# 2nd Additional Activity\r\n",
        "\r\n",
        "# 1st Task - Find out which country's Satellite uses the most power and how much power in Watts ?\r\n",
        "import pandas as pd\r\n",
        "from matplotlib import pyplot as plt\r\n",
        "\r\n",
        "dataframe = pd.read_csv('https://shravaripatil.github.io/ADV/AA/C191_satellite_data.csv')\r\n",
        "df = dataframe.dropna() \r\n",
        "\r\n",
        "# Write code to sort the data table stored in variable \"df\" using sort_values() function and store the new table in a variable. \r\n",
        "# As we want to get the satellite which uses the most power we will use 'Power (Watts)' column to sort the table.\r\n",
        "# (Hint - This function takes a parameter \"by\" which should be assigned a column name in square brackets based on which you want to sort the table.)\r\n",
        "\r\n",
        "\r\n",
        "# We want to print the country name of the satellite which consumes the most power, so we will first select the column and then use head() function to get 1st row () as the data is sorted 1st row will now be the satellite that consumes most power\r\n",
        "# (Hint: use variable holding the sorted data table and name of the column to be selected ('Country of Operator/Owner' as this column holds the country names) within sqaure bracket )\r\n",
        "\r\n",
        "\r\n",
        "print(\"----------\")\r\n",
        "# We want to print the power of the satellite which consumes the most power, so we will first select the column and then use head() function to get 1st row () as the data is sorted 1st row will now be the satellite that consumes most power\r\n",
        "# (Hint: use variable holding the sorted data table and name of the column to be selected ('Power (Watts)' as this column holds the country names) within sqaure bracket )\r\n",
        "\r\n"
      ],
      "execution_count": null,
      "outputs": []
    }
  ]
}