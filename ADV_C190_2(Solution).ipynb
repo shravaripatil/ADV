{
  "nbformat": 4,
  "nbformat_minor": 0,
  "metadata": {
    "colab": {
      "name": "ADV-C190.2(Solution)",
      "provenance": [],
      "authorship_tag": "ABX9TyNXtXcseMvU+s70X4v2QfOt",
      "include_colab_link": true
    },
    "kernelspec": {
      "name": "python3",
      "display_name": "Python 3"
    }
  },
  "cells": [
    {
      "cell_type": "markdown",
      "metadata": {
        "id": "view-in-github",
        "colab_type": "text"
      },
      "source": [
        "<a href=\"https://colab.research.google.com/github/shravaripatil/ADV/blob/main/ADV_C190_2(Solution).ipynb\" target=\"_parent\"><img src=\"https://colab.research.google.com/assets/colab-badge.svg\" alt=\"Open In Colab\"/></a>"
      ]
    },
    {
      "cell_type": "code",
      "metadata": {
        "colab": {
          "base_uri": "https://localhost:8080/"
        },
        "id": "WADYG7dW8Hn3",
        "outputId": "988c6f0f-bd55-4e65-9b7a-306ed4e57f06"
      },
      "source": [
        ""
      ],
      "execution_count": null,
      "outputs": [
        {
          "output_type": "stream",
          "text": [
            "1185    ESA\n",
            "Name: Country of Operator/Owner, dtype: object\n",
            "----------\n",
            "1185    1065\n",
            "Name: Power (Watts), dtype: object\n"
          ],
          "name": "stdout"
        }
      ]
    }
  ]
}