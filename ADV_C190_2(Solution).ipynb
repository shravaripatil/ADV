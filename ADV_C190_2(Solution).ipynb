{
  "nbformat": 4,
  "nbformat_minor": 0,
  "metadata": {
    "colab": {
      "name": "ADV-C190.2(Solution)",
      "provenance": [],
      "authorship_tag": "ABX9TyPJJB1aqlerSC93GcH6/pXU",
      "include_colab_link": true
    },
    "kernelspec": {
      "name": "python3",
      "display_name": "Python 3"
    }
  },
  "cells": [
    {
      "cell_type": "markdown",
      "metadata": {
        "id": "view-in-github",
        "colab_type": "text"
      },
      "source": [
        "<a href=\"https://colab.research.google.com/github/shravaripatil/ADV-C190/blob/main/ADV_C190_2(Solution).ipynb\" target=\"_parent\"><img src=\"https://colab.research.google.com/assets/colab-badge.svg\" alt=\"Open In Colab\"/></a>"
      ]
    },
    {
      "cell_type": "code",
      "metadata": {
        "colab": {
          "base_uri": "https://localhost:8080/"
        },
        "id": "WADYG7dW8Hn3",
        "outputId": "988c6f0f-bd55-4e65-9b7a-306ed4e57f06"
      },
      "source": [
        "# 2nd Additional Activity\r\n",
        "\r\n",
        "# 1st Task - Find out which country's Satellite uses the most power and how much power in Watts ?\r\n",
        "import pandas as pd\r\n",
        "from matplotlib import pyplot as plt\r\n",
        "\r\n",
        "dataframe = pd.read_csv('https://shravaripatil.github.io/ADV-C190/AA/C190_satellite_data.csv')\r\n",
        "df = dataframe.dropna() \r\n",
        "\r\n",
        "# Write code to sort the data table stored in variable \"df\" using sort_values() function and store the new table in a variable. \r\n",
        "# As we want to get the satellite which uses the most power we will use 'Power (Watts)' column to sort the table.\r\n",
        "# (Hint - This function takes a parameter \"by\" which should be assigned a column name in square brackets based on which you want to sort the table.)\r\n",
        "sorted_df = df.sort_values(by=['Power (Watts)'])\r\n",
        "\r\n",
        "# We want to print the country name of the satellite which consumes the most power, so we will first select the column and then use head() function to get 1st row () as the data is sorted 1st row will now be the satellite that consumes most power\r\n",
        "# (Hint: use variable holding the sorted data table and name of the column to be selected ('Country of Operator/Owner' as this column holds the country names) within sqaure bracket )\r\n",
        "print(sorted_df['Country of Operator/Owner'].head(1))\r\n",
        "\r\n",
        "print(\"----------\")\r\n",
        "# We want to print the power of the satellite which consumes the most power, so we will first select the column and then use head() function to get 1st row () as the data is sorted 1st row will now be the satellite that consumes most power\r\n",
        "# (Hint: use variable holding the sorted data table and name of the column to be selected ('Power (Watts)' as this column holds the country names) within sqaure bracket )\r\n",
        "print(sorted_df['Power (Watts)'].head(1))\r\n"
      ],
      "execution_count": 1,
      "outputs": [
        {
          "output_type": "stream",
          "text": [
            "1185    ESA\n",
            "Name: Country of Operator/Owner, dtype: object\n",
            "----------\n",
            "1185    1065\n",
            "Name: Power (Watts), dtype: object\n"
          ],
          "name": "stdout"
        }
      ]
    }
  ]
}