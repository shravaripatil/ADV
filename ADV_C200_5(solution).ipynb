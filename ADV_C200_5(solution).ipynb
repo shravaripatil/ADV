{
  "nbformat": 4,
  "nbformat_minor": 0,
  "metadata": {
    "colab": {
      "name": "ADV-C200-5(solution).ipynb",
      "provenance": [],
      "authorship_tag": "ABX9TyNJ8o0HVNynQzvAiZvjewCg",
      "include_colab_link": true
    },
    "kernelspec": {
      "name": "python3",
      "display_name": "Python 3"
    },
    "widgets": {
      "application/vnd.jupyter.widget-state+json": {
        "7ea9a917b77f42cc90664392dae7e7ad": {
          "model_module": "@jupyter-widgets/controls",
          "model_name": "TextModel",
          "state": {
            "_view_name": "TextView",
            "style": "IPY_MODEL_1cb5278560414a7397c02bee7302e92b",
            "_dom_classes": [],
            "description": "",
            "_model_name": "TextModel",
            "placeholder": "​",
            "_view_module": "@jupyter-widgets/controls",
            "_model_module_version": "1.5.0",
            "value": "vertical",
            "_view_count": null,
            "disabled": false,
            "_view_module_version": "1.5.0",
            "continuous_update": true,
            "description_tooltip": null,
            "_model_module": "@jupyter-widgets/controls",
            "layout": "IPY_MODEL_d44cf5cc072e4af88bbb6643faf63305"
          }
        },
        "1cb5278560414a7397c02bee7302e92b": {
          "model_module": "@jupyter-widgets/controls",
          "model_name": "DescriptionStyleModel",
          "state": {
            "_view_name": "StyleView",
            "_model_name": "DescriptionStyleModel",
            "description_width": "",
            "_view_module": "@jupyter-widgets/base",
            "_model_module_version": "1.5.0",
            "_view_count": null,
            "_view_module_version": "1.2.0",
            "_model_module": "@jupyter-widgets/controls"
          }
        },
        "d44cf5cc072e4af88bbb6643faf63305": {
          "model_module": "@jupyter-widgets/base",
          "model_name": "LayoutModel",
          "state": {
            "_view_name": "LayoutView",
            "grid_template_rows": null,
            "right": null,
            "justify_content": null,
            "_view_module": "@jupyter-widgets/base",
            "overflow": null,
            "_model_module_version": "1.2.0",
            "_view_count": null,
            "flex_flow": null,
            "width": null,
            "min_width": null,
            "border": null,
            "align_items": null,
            "bottom": null,
            "_model_module": "@jupyter-widgets/base",
            "top": null,
            "grid_column": null,
            "overflow_y": null,
            "overflow_x": null,
            "grid_auto_flow": null,
            "grid_area": null,
            "grid_template_columns": null,
            "flex": null,
            "_model_name": "LayoutModel",
            "justify_items": null,
            "grid_row": null,
            "max_height": null,
            "align_content": null,
            "visibility": null,
            "align_self": null,
            "height": null,
            "min_height": null,
            "padding": null,
            "grid_auto_rows": null,
            "grid_gap": null,
            "max_width": null,
            "order": null,
            "_view_module_version": "1.2.0",
            "grid_template_areas": null,
            "object_position": null,
            "object_fit": null,
            "grid_auto_columns": null,
            "margin": null,
            "display": null,
            "left": null
          }
        },
        "a7a41f4cc263424b939ffc0e18854332": {
          "model_module": "@jupyter-widgets/controls",
          "model_name": "ButtonModel",
          "state": {
            "_view_name": "ButtonView",
            "style": "IPY_MODEL_74daf09b1fca47359ea8761b30743f54",
            "_dom_classes": [],
            "description": "rotate",
            "_model_name": "ButtonModel",
            "button_style": "",
            "_view_module": "@jupyter-widgets/controls",
            "_model_module_version": "1.5.0",
            "tooltip": "",
            "_view_count": null,
            "disabled": false,
            "_view_module_version": "1.5.0",
            "layout": "IPY_MODEL_2630dd443ccd4c0fa75d13cef036f107",
            "_model_module": "@jupyter-widgets/controls",
            "icon": ""
          }
        },
        "74daf09b1fca47359ea8761b30743f54": {
          "model_module": "@jupyter-widgets/controls",
          "model_name": "ButtonStyleModel",
          "state": {
            "_view_name": "StyleView",
            "_model_name": "ButtonStyleModel",
            "_view_module": "@jupyter-widgets/base",
            "_model_module_version": "1.5.0",
            "_view_count": null,
            "button_color": null,
            "font_weight": "",
            "_view_module_version": "1.2.0",
            "_model_module": "@jupyter-widgets/controls"
          }
        },
        "2630dd443ccd4c0fa75d13cef036f107": {
          "model_module": "@jupyter-widgets/base",
          "model_name": "LayoutModel",
          "state": {
            "_view_name": "LayoutView",
            "grid_template_rows": null,
            "right": null,
            "justify_content": null,
            "_view_module": "@jupyter-widgets/base",
            "overflow": null,
            "_model_module_version": "1.2.0",
            "_view_count": null,
            "flex_flow": null,
            "width": null,
            "min_width": null,
            "border": null,
            "align_items": null,
            "bottom": null,
            "_model_module": "@jupyter-widgets/base",
            "top": null,
            "grid_column": null,
            "overflow_y": null,
            "overflow_x": null,
            "grid_auto_flow": null,
            "grid_area": null,
            "grid_template_columns": null,
            "flex": null,
            "_model_name": "LayoutModel",
            "justify_items": null,
            "grid_row": null,
            "max_height": null,
            "align_content": null,
            "visibility": null,
            "align_self": null,
            "height": null,
            "min_height": null,
            "padding": null,
            "grid_auto_rows": null,
            "grid_gap": null,
            "max_width": null,
            "order": null,
            "_view_module_version": "1.2.0",
            "grid_template_areas": null,
            "object_position": null,
            "object_fit": null,
            "grid_auto_columns": null,
            "margin": null,
            "display": null,
            "left": null
          }
        },
        "a14a9f7f7ae2410094759b0daa1aa534": {
          "model_module": "@jupyter-widgets/controls",
          "model_name": "ButtonModel",
          "state": {
            "_view_name": "ButtonView",
            "style": "IPY_MODEL_42ba87273efc491d9eb67f77d761c569",
            "_dom_classes": [],
            "description": "Clear Output",
            "_model_name": "ButtonModel",
            "button_style": "",
            "_view_module": "@jupyter-widgets/controls",
            "_model_module_version": "1.5.0",
            "tooltip": "",
            "_view_count": null,
            "disabled": false,
            "_view_module_version": "1.5.0",
            "layout": "IPY_MODEL_874fcf88366b4b71bf263eefac7beb59",
            "_model_module": "@jupyter-widgets/controls",
            "icon": ""
          }
        },
        "42ba87273efc491d9eb67f77d761c569": {
          "model_module": "@jupyter-widgets/controls",
          "model_name": "ButtonStyleModel",
          "state": {
            "_view_name": "StyleView",
            "_model_name": "ButtonStyleModel",
            "_view_module": "@jupyter-widgets/base",
            "_model_module_version": "1.5.0",
            "_view_count": null,
            "button_color": null,
            "font_weight": "",
            "_view_module_version": "1.2.0",
            "_model_module": "@jupyter-widgets/controls"
          }
        },
        "874fcf88366b4b71bf263eefac7beb59": {
          "model_module": "@jupyter-widgets/base",
          "model_name": "LayoutModel",
          "state": {
            "_view_name": "LayoutView",
            "grid_template_rows": null,
            "right": null,
            "justify_content": null,
            "_view_module": "@jupyter-widgets/base",
            "overflow": null,
            "_model_module_version": "1.2.0",
            "_view_count": null,
            "flex_flow": null,
            "width": null,
            "min_width": null,
            "border": null,
            "align_items": null,
            "bottom": null,
            "_model_module": "@jupyter-widgets/base",
            "top": null,
            "grid_column": null,
            "overflow_y": null,
            "overflow_x": null,
            "grid_auto_flow": null,
            "grid_area": null,
            "grid_template_columns": null,
            "flex": null,
            "_model_name": "LayoutModel",
            "justify_items": null,
            "grid_row": null,
            "max_height": null,
            "align_content": null,
            "visibility": null,
            "align_self": null,
            "height": null,
            "min_height": null,
            "padding": null,
            "grid_auto_rows": null,
            "grid_gap": null,
            "max_width": null,
            "order": null,
            "_view_module_version": "1.2.0",
            "grid_template_areas": null,
            "object_position": null,
            "object_fit": null,
            "grid_auto_columns": null,
            "margin": null,
            "display": null,
            "left": null
          }
        }
      }
    }
  },
  "cells": [
    {
      "cell_type": "markdown",
      "metadata": {
        "id": "view-in-github",
        "colab_type": "text"
      },
      "source": [
        "<a href=\"https://colab.research.google.com/github/shravaripatil/ADV/blob/main/ADV_C200_5(solution).ipynb\" target=\"_parent\"><img src=\"https://colab.research.google.com/assets/colab-badge.svg\" alt=\"Open In Colab\"/></a>"
      ]
    },
    {
      "cell_type": "code",
      "metadata": {
        "colab": {
          "base_uri": "https://localhost:8080/",
          "height": 113,
          "referenced_widgets": [
            "7ea9a917b77f42cc90664392dae7e7ad",
            "1cb5278560414a7397c02bee7302e92b",
            "d44cf5cc072e4af88bbb6643faf63305",
            "a7a41f4cc263424b939ffc0e18854332",
            "74daf09b1fca47359ea8761b30743f54",
            "2630dd443ccd4c0fa75d13cef036f107",
            "a14a9f7f7ae2410094759b0daa1aa534",
            "42ba87273efc491d9eb67f77d761c569",
            "874fcf88366b4b71bf263eefac7beb59"
          ]
        },
        "id": "bejjXm4z_rok",
        "outputId": "761deee9-ce46-4f5b-c9ab-9512d830f636"
      },
      "source": [
        "# Task Description - \r\n",
        "from ipywidgets import widgets\r\n",
        "from IPython.display import display, clear_output\r\n",
        "import pandas as pd\r\n",
        "import matplotlib.pyplot as plt\r\n",
        "df = pd.read_csv('https://shravaripatil.github.io/ADV/AA/percentage.csv')\r\n",
        "\r\n",
        "\r\n",
        "def clearTheOutput(b):\r\n",
        "    clear_output()\r\n",
        "    display(input_box)\r\n",
        "    display(rotate_graph)\r\n",
        "    display(clear_it)\r\n",
        "    \r\n",
        "def rotate_ticks(b):\r\n",
        "    plt.subplots(figsize=(19,8))\r\n",
        "    plt.plot(df['Name'], df['Percentage'], linewidth=3.0)\r\n",
        "    plt.xlabel('Name')\r\n",
        "    # Change the angle at which xaxis values are placed. Use plt.xticks() function. This function takes 'rotation' parameter, \r\n",
        "    # and as we are going to rotate the axis value as per user entered value therefore assign input box value to this parameter (Hint- Use the variable holding the input box (input_box) with dot operator and 'value' attribute)\r\n",
        "    plt.xticks(rotation= input_box.value)\r\n",
        "    plt.ylabel('Percentage')\r\n",
        "    plt.show()\r\n",
        "\r\n",
        "input_box= widgets.Text()\r\n",
        "rotate_graph= widgets.Button(description=\"rotate\")\r\n",
        "rotate_graph.on_click(rotate_ticks)\r\n",
        "clear_it= widgets.Button(description=\"Clear Output\")\r\n",
        "clear_it.on_click(clearTheOutput)\r\n",
        "display(input_box)\r\n",
        "display(rotate_graph)\r\n",
        "display(clear_it)  \r\n",
        "\r\n",
        "\r\n",
        "# Test - enter either degree at which you want to rotate the x axis values or enter direction (eg- vertical , horizontal) in the input feild \r\n",
        "# And press 'rotate' button and you will see the xaxis values rotates\r\n",
        "# Then press 'clear output' button to clear the plot and again change the angle of xticks"
      ],
      "execution_count": 3,
      "outputs": [
        {
          "output_type": "display_data",
          "data": {
            "application/vnd.jupyter.widget-view+json": {
              "model_id": "7ea9a917b77f42cc90664392dae7e7ad",
              "version_minor": 0,
              "version_major": 2
            },
            "text/plain": [
              "Text(value='vertical')"
            ]
          },
          "metadata": {
            "tags": []
          }
        },
        {
          "output_type": "display_data",
          "data": {
            "application/vnd.jupyter.widget-view+json": {
              "model_id": "a7a41f4cc263424b939ffc0e18854332",
              "version_minor": 0,
              "version_major": 2
            },
            "text/plain": [
              "Button(description='rotate', style=ButtonStyle())"
            ]
          },
          "metadata": {
            "tags": []
          }
        },
        {
          "output_type": "display_data",
          "data": {
            "application/vnd.jupyter.widget-view+json": {
              "model_id": "a14a9f7f7ae2410094759b0daa1aa534",
              "version_minor": 0,
              "version_major": 2
            },
            "text/plain": [
              "Button(description='Clear Output', style=ButtonStyle())"
            ]
          },
          "metadata": {
            "tags": []
          }
        }
      ]
    }
  ]
}