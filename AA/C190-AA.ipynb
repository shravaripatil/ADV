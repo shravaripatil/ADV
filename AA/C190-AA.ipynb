{
 "cells": [
  {
   "cell_type": "code",
   "execution_count": 10,
   "metadata": {},
   "outputs": [
    {
     "name": "stdout",
     "output_type": "stream",
     "text": [
      "740    USA/France\n",
      "Name: Country of Operator/Owner, dtype: object 740    1/17/2016\n",
      "Name: Date of Launch, dtype: object\n",
      "----------\n",
      "410    USA\n",
      "Name: Country of Operator/Owner, dtype: object 410    8/29/1997\n",
      "Name: Date of Launch, dtype: object\n"
     ]
    }
   ],
   "source": [
    "#AA1 -  \n",
    "#Q - Find out which country had sent the first Satellite in space and when \n",
    "#Q - Find out which country has send a Satellite recently in space\n",
    "\n",
    "#predefine code\n",
    "import pandas as pd\n",
    "from matplotlib import pyplot as plt\n",
    "\n",
    "dataframe = pd.read_csv('C190_satellite_data.csv')\n",
    "df = dataframe.dropna() \n",
    "#predefine end\n",
    "\n",
    "sorted_df = df.sort_values(by=['Date of Launch'])\n",
    "sorted_df\n",
    "print(sorted_df['Country of Operator/Owner'].head(1), sorted_df['Date of Launch'].head(1))\n",
    "print(\"----------\")\n",
    "print(sorted_df['Country of Operator/Owner'].tail(1), sorted_df['Date of Launch'].tail(1))\n"
   ]
  },
  {
   "cell_type": "code",
   "execution_count": 11,
   "metadata": {},
   "outputs": [
    {
     "data": {
      "text/plain": [
       "1185    1065\n",
       "Name: Power (Watts), dtype: object"
      ]
     },
     "execution_count": 11,
     "metadata": {},
     "output_type": "execute_result"
    }
   ],
   "source": [
    "#AA2 -  \n",
    "#Q - Find out which country's Satellite uses the most power and waht is the value os the power\n",
    "\n",
    "#predefine code\n",
    "import pandas as pd\n",
    "from matplotlib import pyplot as plt\n",
    "\n",
    "dataframe = pd.read_csv('C190_satellite_data.csv')\n",
    "df = dataframe.dropna() \n",
    "#predefine end\n",
    "\n",
    "sorted_df = df.sort_values(by=['Power (Watts)'])\n",
    "sorted_df['Country of Operator/Owner'].head(1)\n",
    "sorted_df['Power (Watts)'].head(1)\n",
    "\n"
   ]
  },
  {
   "cell_type": "code",
   "execution_count": 12,
   "metadata": {},
   "outputs": [
    {
     "data": {
      "text/plain": [
       "29"
      ]
     },
     "execution_count": 12,
     "metadata": {},
     "output_type": "execute_result"
    }
   ],
   "source": [
    "#AA3 -  \n",
    "#Q - Find out total number of Satellite used for Earth Observation\n",
    "\n",
    "#predefine code\n",
    "import pandas as pd\n",
    "from matplotlib import pyplot as plt\n",
    "\n",
    "dataframe = pd.read_csv('C190_satellite_data.csv')\n",
    "df = dataframe.dropna() \n",
    "#predefine end\n",
    "\n",
    "Purpose = df.loc[df['Purpose'] == 'Earth Observation']\n",
    "Purpose['Official Name of Satellite'].count()"
   ]
  },
  {
   "cell_type": "code",
   "execution_count": 13,
   "metadata": {},
   "outputs": [
    {
     "data": {
      "text/plain": [
       "18"
      ]
     },
     "execution_count": 13,
     "metadata": {},
     "output_type": "execute_result"
    }
   ],
   "source": [
    "#AA4 -  \n",
    "#Q - Total number of Satellite used by the Government\n",
    "\n",
    "#predefine code\n",
    "import pandas as pd\n",
    "from matplotlib import pyplot as plt\n",
    "\n",
    "dataframe = pd.read_csv('C190_satellite_data.csv')\n",
    "df = dataframe.dropna() \n",
    "#predefine end\n",
    "\n",
    "Purpose = df.loc[df['Users'] == 'Government']\n",
    "Purpose['Official Name of Satellite'].count()"
   ]
  },
  {
   "cell_type": "code",
   "execution_count": 14,
   "metadata": {},
   "outputs": [
    {
     "data": {
      "text/plain": [
       "11"
      ]
     },
     "execution_count": 14,
     "metadata": {},
     "output_type": "execute_result"
    }
   ],
   "source": [
    "#AA5 -  \n",
    "#Q - Total number of Satellites own by the USA \n",
    "\n",
    "#predefine code\n",
    "import pandas as pd\n",
    "from matplotlib import pyplot as plt\n",
    "\n",
    "dataframe = pd.read_csv('C190_satellite_data.csv')\n",
    "df = dataframe.dropna() \n",
    "#predefine end\n",
    "\n",
    "Purpose = df.loc[df['Country of Operator/Owner'] == 'USA']\n",
    "Purpose['Official Name of Satellite'].count()"
   ]
  },
  {
   "cell_type": "code",
   "execution_count": null,
   "metadata": {},
   "outputs": [],
   "source": []
  }
 ],
 "metadata": {
  "kernelspec": {
   "display_name": "Python 3",
   "language": "python",
   "name": "python3"
  },
  "language_info": {
   "codemirror_mode": {
    "name": "ipython",
    "version": 3
   },
   "file_extension": ".py",
   "mimetype": "text/x-python",
   "name": "python",
   "nbconvert_exporter": "python",
   "pygments_lexer": "ipython3",
   "version": "3.7.6"
  }
 },
 "nbformat": 4,
 "nbformat_minor": 4
}
