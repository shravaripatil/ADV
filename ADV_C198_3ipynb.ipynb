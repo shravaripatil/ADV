{
  "nbformat": 4,
  "nbformat_minor": 0,
  "metadata": {
    "colab": {
      "name": "ADV-C198_3ipynb",
      "provenance": [],
      "authorship_tag": "ABX9TyMrQRexbJGGG9t5eJYPK49z",
      "include_colab_link": true
    },
    "kernelspec": {
      "name": "python3",
      "display_name": "Python 3"
    }
  },
  "cells": [
    {
      "cell_type": "markdown",
      "metadata": {
        "id": "view-in-github",
        "colab_type": "text"
      },
      "source": [
        "<a href=\"https://colab.research.google.com/github/shravaripatil/ADV/blob/main/ADV_C198_3ipynb.ipynb\" target=\"_parent\"><img src=\"https://colab.research.google.com/assets/colab-badge.svg\" alt=\"Open In Colab\"/></a>"
      ]
    },
    {
      "cell_type": "code",
      "metadata": {
        "id": "c3CWfHzrdL_j"
      },
      "source": [
        "#Task Description : plot a line graph to show Top 5 Energy Consumption= States\r\n",
        "import pandas as pd\r\n",
        "import matplotlib.pyplot as plt \r\n",
        "\r\n",
        "pd.set_option('display.max_columns', None)\r\n",
        "df = pd.read_csv('https://shravaripatil.github.io/ADV/AA/Energy_Census_and_Economic_Data%20US_2010-2014.csv')\r\n",
        "df.head(10)\r\n",
        "sorted_consumption_df = df.sort_values('TotalC2014')\r\n",
        "top5_consumption = sorted_consumption_df.head(5)\r\n",
        "top5_consumption\r\n",
        "\r\n",
        "#using the plt.figure() function, set the size of the plotting area by mentioning the width and height for the figsize parameter.\r\n",
        "\r\n",
        "\r\n",
        "# set the label for the x axis values as 'States' (Hint - Use xlabel() function of pyplot module and pass the label in string format)\r\n",
        "\r\n",
        "\r\n",
        "# set the label for the y axis values as 'Energy' (Hint - Use ylabel() function of pyplot module and pass the label in string format)\r\n",
        "\r\n",
        "\r\n",
        "# Set the x ticks direction to vertical (Hint - Use xticks() function of pyplot module and pass the direction in string format to rotation parameter of this function)\r\n",
        "\r\n",
        "\r\n",
        "# Set the title of the plot (Hint - Use title() function of the pyplot module and pass the direction in string format)\r\n",
        "\r\n",
        "# Draw the line graph \r\n",
        "# Use plot() function of the pyplot module and pass the following parameters \r\n",
        "    # x values - Assign this parameter 'state' names of US (Hint - Access the 'State' column of the dataframe , the dataframe is stored in the top5_consumption variable. )\r\n",
        "    # y values - Assign this parameter values of 'TotalC2014'  (Hint - Access the 'values' column of the dataframe , the dataframe is stored in the top5_consumption variable. )\r\n",
        "    # linewidth - set the line width \r\n",
        "\r\n",
        "# Display the plot (Hint - Use show() function of pyplot module to display the plot)\r\n"
      ],
      "execution_count": null,
      "outputs": []
    }
  ]
}