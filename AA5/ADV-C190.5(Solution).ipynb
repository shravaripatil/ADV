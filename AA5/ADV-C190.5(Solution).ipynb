{
 "cells": [
  {
   "cell_type": "code",
   "execution_count": 1,
   "metadata": {},
   "outputs": [
    {
     "data": {
      "text/plain": [
       "11"
      ]
     },
     "execution_count": 1,
     "metadata": {},
     "output_type": "execute_result"
    }
   ],
   "source": [
    "# 5th Additional Activity\n",
    "\n",
    "# 1st Task - Total number of Satellites own by the USA \n",
    "import pandas as pd\n",
    "from matplotlib import pyplot as plt\n",
    "\n",
    "dataframe = pd.read_csv('C190_satellite_data.csv')\n",
    "df = dataframe.dropna()\n",
    "\n",
    "# Selecting a particular section of data from the table - to learn more about indexing and selecting visit (https://www.geeksforgeeks.org/indexing-and-selecting-data-with-pandas/)\n",
    "''' As we want only what the satellites that are own by USA therefore we will select a the column 'Country of Operator/Owner' as this column tells who owns this\n",
    " particular satellite , therefore to check if which cell contain value as \"USA\" and select those row for this \n",
    "syntax:\n",
    "data['column_name'] == 'Value'\n",
    "where data - is the variable which contains the table\n",
    "column_name - is the column against which you want to check the Value\n",
    "Value - the value which you want to get selected\n",
    "This will check if the entires in this coulmns are euqal to Values\n",
    "\n",
    "We want that all the rows which contain \"USA\" entires in this \"Country of Operator/Owner\" column to get selected, then use - \n",
    "df.loc[] \n",
    "and pass data['column_name'] == 'Value' to it, as it will get all the rows which satisfy data['column_name'] == 'Value' this condition and store it in 'Purpose' variable\n",
    "'''\n",
    "Purpose = df.loc[df['Country of Operator/Owner'] == 'USA']\n",
    "\n",
    "\n",
    "# Now count the number of satellites owned by USA in 'Purpose' variable as this variable holds the table, \n",
    "# As the new table only consist of satellites with 'Country of Operator/Owner' as 'USA' ,Therefore the number of rows = number of satellites with the country as USA.\n",
    "# Therefore we can select any column name from this table and as we want the total  number of rows for this we will be using \"count()\" function. (Hint: Select the column and the use dot operator with count() function, to select the column - write the variable holding table and give any column name(eg 'Official Name of Satellite') in double quotes inside the square brackets)\n",
    "Purpose['Official Name of Satellite'].count()\n"
   ]
  }
 ],
 "metadata": {
  "kernelspec": {
   "display_name": "Python 3",
   "language": "python",
   "name": "python3"
  },
  "language_info": {
   "codemirror_mode": {
    "name": "ipython",
    "version": 3
   },
   "file_extension": ".py",
   "mimetype": "text/x-python",
   "name": "python",
   "nbconvert_exporter": "python",
   "pygments_lexer": "ipython3",
   "version": "3.8.3"
  }
 },
 "nbformat": 4,
 "nbformat_minor": 4
}
