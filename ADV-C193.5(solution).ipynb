{
  "nbformat": 4,
  "nbformat_minor": 0,
  "metadata": {
    "colab": {
      "name": "Untitled1.ipynb",
      "provenance": [],
      "authorship_tag": "ABX9TyPPPsOdj/GhVyZk+hjr3u00",
      "include_colab_link": true
    },
    "kernelspec": {
      "name": "python3",
      "display_name": "Python 3"
    }
  },
  "cells": [
    {
      "cell_type": "markdown",
      "metadata": {
        "id": "view-in-github",
        "colab_type": "text"
      },
      "source": [
        "<a href=\"https://colab.research.google.com/github/shravaripatil/ADV/blob/main/ADV-C193.5(solution).ipynb\" target=\"_parent\"><img src=\"https://colab.research.google.com/assets/colab-badge.svg\" alt=\"Open In Colab\"/></a>"
      ]
    },
    {
      "cell_type": "code",
      "metadata": {
        "id": "ysQWDTvV30ky"
      },
      "source": [
        "#Additional-Activity-5\r\n",
        "# Task description - Find out in total how many people who have \"more then normal\" cholesterol\r\n",
        "\r\n",
        "import pandas as pd\r\n",
        "import matplotlib.pyplot as plt \r\n",
        "\r\n",
        "df = pd.read_csv('https://shravaripatil.github.io/ADV/AA/cardiovascular.csv')\r\n",
        "df\r\n",
        "\r\n",
        "\r\n",
        "# Selecting a particular section of data from the table - to learn more about indexing and selecting visit (https://www.geeksforgeeks.org/indexing-and-selecting-data-with-pandas/)\r\n",
        "''' As we want get all the rows where cholesterol is high therefore we will select a the column \"cholesterol\" as this column tells who has what level of cholesterol \r\n",
        "3- normal and 2 - means high and 3- means very high cholesterol, to  check if which cell contain value as \"2\" as we want to see how many people have high cholesterol and select those row for this activity\r\n",
        "syntax:\r\n",
        "df['column_name'] == 'Value'\r\n",
        "where df - is the variable which contains the table\r\n",
        "column_name - is the column against which you want to check the Value (hint - 'cholesterol')\r\n",
        "Value - the value which you want to get selected (Hint - 1)\r\n",
        "This will check if the entires in this coulmns are euqal to Values\r\n",
        "\r\n",
        "We want that all the rows which contain \"2\" entires in this \"cholesterol\" column to be selected then use - \r\n",
        "df.loc[] \r\n",
        "and pass data['column_name'] == 'Value' to it, as it will get all the rows which satisfy df['column_name'] == 'Value' this condition and store it in 'people_above_normal_cholesterol' variable\r\n",
        "'''\r\n",
        "people_above_normal_cholesterol = df.loc[df['cholesterol'] == 2]\r\n",
        "\r\n",
        "# Now count the number of rows in 'df' variable as this variable holds the complete table, \r\n",
        "# The the number of rows = number of people (enteries).\r\n",
        "# Therefore we can select any column name from this table and as we want the total  number of rows for this we will be using \"count()\" function. (Hint: Select the column and the use dot operator with count() function, to select the column - write the variable holding table and give any column name(eg 'id') in double quotes inside the square brackets)\r\n",
        "print('Total people',df['id'].count())\r\n",
        "\r\n",
        "# Now count the number of rows in 'people_above_normal_cholesterol' variable as this variable holds the table, \r\n",
        "# The the number of rows = number of people having high cholesterol as people_above_normal_cholesterol variable only has entires(rows) of people who have high cholesterol.\r\n",
        "# Therefore we can select any column name from this table and as we want the total  number of rows for this we will be using \"count()\" function. (Hint: Select the column and the use dot operator with count() function, to select the column - write the variable holding table and give any column name(eg 'id') in double quotes inside the square brackets)\r\n",
        "print('Above normal cholesterol', people_above_normal_cholesterol['id'].count())\r\n",
        "\r\n"
      ],
      "execution_count": null,
      "outputs": []
    }
  ]
}