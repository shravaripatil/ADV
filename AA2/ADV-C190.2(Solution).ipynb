{
 "cells": [
  {
   "cell_type": "code",
   "execution_count": 2,
   "metadata": {},
   "outputs": [
    {
     "name": "stdout",
     "output_type": "stream",
     "text": [
      "1185    ESA\n",
      "Name: Country of Operator/Owner, dtype: object\n",
      "----------\n",
      "1185    1065\n",
      "Name: Power (Watts), dtype: object\n"
     ]
    }
   ],
   "source": [
    "# 2nd Additional Activity\n",
    "\n",
    "# 1st Task - Find out which country's Satellite uses the most power and how much power in Watts ?\n",
    "import pandas as pd\n",
    "from matplotlib import pyplot as plt\n",
    "\n",
    "dataframe = pd.read_csv('C190_satellite_data.csv')\n",
    "df = dataframe.dropna() \n",
    "\n",
    "# Write code to sort the data table stored in variable \"df\" using sort_values() function and store the new table in a variable. \n",
    "# As we want to get the satellite which uses the most power we will use 'Power (Watts)' column to sort the table.\n",
    "# (Hint - This function takes a parameter \"by\" which should be assigned a column name in square brackets based on which you want to sort the table.)\n",
    "sorted_df = df.sort_values(by=['Power (Watts)'])\n",
    "\n",
    "# We want to print the country name of the satellite which consumes the most power, so we will first select the column and then use head() function to get 1st row () as the data is sorted 1st row will now be the satellite that consumes most power\n",
    "# (Hint: use variable holding the sorted data table and name of the column to be selected ('Country of Operator/Owner' as this column holds the country names) within sqaure bracket )\n",
    "print(sorted_df['Country of Operator/Owner'].head(1))\n",
    "\n",
    "print(\"----------\")\n",
    "# We want to print the power of the satellite which consumes the most power, so we will first select the column and then use head() function to get 1st row () as the data is sorted 1st row will now be the satellite that consumes most power\n",
    "# (Hint: use variable holding the sorted data table and name of the column to be selected ('Power (Watts)' as this column holds the country names) within sqaure bracket )\n",
    "print(sorted_df['Power (Watts)'].head(1))\n"
   ]
  }
 ],
 "metadata": {
  "kernelspec": {
   "display_name": "Python 3",
   "language": "python",
   "name": "python3"
  },
  "language_info": {
   "codemirror_mode": {
    "name": "ipython",
    "version": 3
   },
   "file_extension": ".py",
   "mimetype": "text/x-python",
   "name": "python",
   "nbconvert_exporter": "python",
   "pygments_lexer": "ipython3",
   "version": "3.8.3"
  }
 },
 "nbformat": 4,
 "nbformat_minor": 4
}
