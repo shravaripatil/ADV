{
  "nbformat": 4,
  "nbformat_minor": 0,
  "metadata": {
    "colab": {
      "name": "Untitled1.ipynb",
      "provenance": [],
      "authorship_tag": "ABX9TyPVP775GEjYVqpaHx9cxrjV",
      "include_colab_link": true
    },
    "kernelspec": {
      "name": "python3",
      "display_name": "Python 3"
    }
  },
  "cells": [
    {
      "cell_type": "markdown",
      "metadata": {
        "id": "view-in-github",
        "colab_type": "text"
      },
      "source": [
        "<a href=\"https://colab.research.google.com/github/shravaripatil/ADV/blob/main/ADV-C193.2.ipynb\" target=\"_parent\"><img src=\"https://colab.research.google.com/assets/colab-badge.svg\" alt=\"Open In Colab\"/></a>"
      ]
    },
    {
      "cell_type": "code",
      "metadata": {
        "colab": {
          "base_uri": "https://localhost:8080/"
        },
        "id": "ysQWDTvV30ky",
        "outputId": "ebc84639-1b54-49ee-fe8b-8b9d056d51d9"
      },
      "source": [
        "#Additional-Activity-1\r\n",
        "# Task description - How many out women do physical activity\r\n",
        "\r\n",
        "import pandas as pd\r\n",
        "import matplotlib.pyplot as plt \r\n",
        "\r\n",
        "df = pd.read_csv('https://shravaripatil.github.io/ADV/AA/cardiovascular.csv')\r\n",
        "df\r\n",
        "\r\n",
        "\r\n",
        "#Task - \r\n",
        "#How many women do physical activity\r\n",
        "# Choose all the entires in which gender is female (In gender column 1 - is women and 2 - is men) (Hint - Use df.loc[] to get all the rows and pass df['column_name'] == 'Value' to it, as it will get all the rows which satisfy df['column_name'] == 'Value')\r\n",
        "# Choose all the entires in which active is true (In active column 1 - Does physical activity and 2 - Does not do physical activity) (Hint - Use df.loc[] to get all the rows and pass df['column_name'] == 'Value' to it, as it will get all the rows which satisfy df['column_name'] == 'Value')\r\n",
        "# Then merge these two dataframe so that we get all the women who do physical activity using merge() function of pandas and store the new dataframe in a variable, To learn more about merge() visit - (https://www.geeksforgeeks.org/python-pandas-merging-joining-and-concatenating/)\r\n",
        "#Hint - merge() function is a pandas function therefore use pd (short name of pandas) with dot operator and merge()\r\n",
        "# merge() function takes 2 parameters  \r\n",
        "      # - one is dataframe which has all the entries in which gender = 2\r\n",
        "      # - another is dataframe which has all the entries in which active = 1\r\n",
        "\r\n",
        "\r\n",
        "# Count the number of rows in the new dataframe using count() (Hint - Use the variable holding the merged dataframe and select any row( as we just want the total number of rows eg. active column in square brackets) and use dot operator with count() function.\r\n",
        "\r\n",
        "\r\n",
        "# Print the variable holding the count of total women do physical activity (Hint - just write the variable name and execute the cell) \r\n",
        "\r\n",
        "\r\n"
      ],
      "execution_count": null,
      "outputs": [
        {
          "output_type": "execute_result",
          "data": {
            "text/plain": [
              "19745"
            ]
          },
          "metadata": {
            "tags": []
          },
          "execution_count": 1
        }
      ]
    }
  ]
}