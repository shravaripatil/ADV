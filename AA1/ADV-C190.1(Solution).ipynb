{
 "cells": [
  {
   "cell_type": "code",
   "execution_count": 5,
   "metadata": {},
   "outputs": [
    {
     "name": "stdout",
     "output_type": "stream",
     "text": [
      "740    USA/France\n",
      "Name: Country of Operator/Owner, dtype: object\n",
      "----------\n",
      "740    1/17/2016\n",
      "Name: Date of Launch, dtype: object\n",
      "----------\n",
      "410    USA\n",
      "Name: Country of Operator/Owner, dtype: object\n",
      "----------\n",
      "410    8/29/1997\n",
      "Name: Date of Launch, dtype: object\n"
     ]
    }
   ],
   "source": [
    "# 1st Additional Activity\n",
    "# 1st Task - Find out which country had sent the first Satellite in space and when \n",
    "# 2nd Task - Find out which country has send a Satellite recently in space\n",
    "\n",
    "import pandas as pd\n",
    "from matplotlib import pyplot as plt\n",
    "\n",
    "dataframe = pd.read_csv('C190_satellite_data.csv')\n",
    "df = dataframe.dropna() \n",
    "\n",
    "# Write code to sort the data table stored in variable \"df\" using sort_values() function and store the new table in a variable. \n",
    "# As we want to get the 1st satellite launched so we will use 'Date of Launch' column to sort the table.\n",
    "# (Hint - This function takes a parameter \"by\" which should be assigned a column name in square brackets based on which you want to sort the table.)\n",
    "sorted_df = df.sort_values(by=['Date of Launch'])\n",
    "\n",
    "# We want to print the country name of 1st satellite launched , so we will first select the column and then use head() function to get 1st row ()\n",
    "# (Hint: use variable holding the sorted data table and name of the column to be selected ('Country of Operator/Owner' as this column holds the country names) within sqaure bracket )\n",
    "print(sorted_df['Country of Operator/Owner'].head(1))\n",
    "\n",
    "print(\"----------\")\n",
    "# We want to print the launch date of 1st satellite launched , so we will first select the column and then use head() function to get 1st row ()\n",
    "# (Hint: use variable holding the sorted data table and name of the column to be selected ('Date of Launch' as this column holds the satellites launch date) within sqaure bracket )\n",
    "print(sorted_df['Date of Launch'].head(1))\n",
    "\n",
    "print(\"----------\")\n",
    "# We want to print the country name of satellite launched recently that is last, so we will first select the column and then use tail() function to get last row ()\n",
    "# (Hint: use variable holding the sorted data table and name of the column to be selected ('Country of Operator/Owner' as this column holds the country names) within sqaure bracket )\n",
    "print(sorted_df['Country of Operator/Owner'].tail(1))\n",
    "\n",
    "print(\"----------\")\n",
    "# We want to print the launch date of satellite launched recently that is last, so we will first select the column and then use tail() function to get 1st row ()\n",
    "# (Hint: use variable holding the sorted data table and name of the column to be selected ('Date of Launch' as this column holds the satellites launch date) within sqaure bracket )\n",
    "print(sorted_df['Date of Launch'].tail(1))\n"
   ]
  }
 ],
 "metadata": {
  "kernelspec": {
   "display_name": "Python 3",
   "language": "python",
   "name": "python3"
  },
  "language_info": {
   "codemirror_mode": {
    "name": "ipython",
    "version": 3
   },
   "file_extension": ".py",
   "mimetype": "text/x-python",
   "name": "python",
   "nbconvert_exporter": "python",
   "pygments_lexer": "ipython3",
   "version": "3.8.3"
  }
 },
 "nbformat": 4,
 "nbformat_minor": 4
}
