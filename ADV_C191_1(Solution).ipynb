{
  "nbformat": 4,
  "nbformat_minor": 0,
  "metadata": {
    "colab": {
      "name": "ADV-C191.1(Solution)",
      "provenance": [],
      "authorship_tag": "ABX9TyPtZIp2rJpLBgGSppoXf9WR",
      "include_colab_link": true
    },
    "kernelspec": {
      "name": "python3",
      "display_name": "Python 3"
    }
  },
  "cells": [
    {
      "cell_type": "markdown",
      "metadata": {
        "id": "view-in-github",
        "colab_type": "text"
      },
      "source": [
        "<a href=\"https://colab.research.google.com/github/shravaripatil/ADV/blob/main/ADV_C191_1(Solution).ipynb\" target=\"_parent\"><img src=\"https://colab.research.google.com/assets/colab-badge.svg\" alt=\"Open In Colab\"/></a>"
      ]
    },
    {
      "cell_type": "code",
      "metadata": {
        "id": "O9BBhfaZrvWN"
      },
      "source": [
        "# 1st Additional Activity\r\n",
        "# 1st Task - Find out which country had sent the first Satellite in space and when \r\n",
        "# 2nd Task - Find out which country has send a Satellite recently in space\r\n",
        "\r\n",
        "import pandas as pd\r\n",
        "from matplotlib import pyplot as plt\r\n",
        "\r\n",
        "dataframe = pd.read_csv('https://shravaripatil.github.io/ADV/AA/C191_satellite_data.csv')\r\n",
        "df = dataframe.dropna() \r\n",
        "\r\n",
        "# Write code to sort the data table stored in variable \"df\" using sort_values() function and store the new table in a variable. \r\n",
        "# As we want to get the 1st satellite launched so we will use 'Date of Launch' column to sort the table.\r\n",
        "# (Hint - This function takes a parameter \"by\" which should be assigned a column name in square brackets based on which you want to sort the table.)\r\n",
        "sorted_df = df.sort_values(by=['Date of Launch'])\r\n",
        "\r\n",
        "# We want to print the country name of 1st satellite launched , so we will first select the column and then use head() function to get 1st row ()\r\n",
        "# (Hint: use variable holding the sorted data table and name of the column to be selected ('Country of Operator/Owner' as this column holds the country names) within sqaure bracket )\r\n",
        "print(sorted_df['Country of Operator/Owner'].head(1))\r\n",
        "\r\n",
        "print(\"----------\")\r\n",
        "# We want to print the launch date of 1st satellite launched , so we will first select the column and then use head() function to get 1st row ()\r\n",
        "# (Hint: use variable holding the sorted data table and name of the column to be selected ('Date of Launch' as this column holds the satellites launch date) within sqaure bracket )\r\n",
        "print(sorted_df['Date of Launch'].head(1))\r\n",
        "\r\n",
        "print(\"----------\")\r\n",
        "# We want to print the country name of satellite launched recently that is last, so we will first select the column and then use tail() function to get last row ()\r\n",
        "# (Hint: use variable holding the sorted data table and name of the column to be selected ('Country of Operator/Owner' as this column holds the country names) within sqaure bracket )\r\n",
        "print(sorted_df['Country of Operator/Owner'].tail(1))\r\n",
        "\r\n",
        "print(\"----------\")\r\n",
        "# We want to print the launch date of satellite launched recently that is last, so we will first select the column and then use tail() function to get 1st row ()\r\n",
        "# (Hint: use variable holding the sorted data table and name of the column to be selected ('Date of Launch' as this column holds the satellites launch date) within sqaure bracket )\r\n",
        "print(sorted_df['Date of Launch'].tail(1))\r\n"
      ],
      "execution_count": null,
      "outputs": []
    }
  ]
}