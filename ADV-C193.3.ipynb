{
  "nbformat": 4,
  "nbformat_minor": 0,
  "metadata": {
    "colab": {
      "name": "Untitled1.ipynb",
      "provenance": [],
      "authorship_tag": "ABX9TyPCRhaG4qcAc0/zy8p9zgWn",
      "include_colab_link": true
    },
    "kernelspec": {
      "name": "python3",
      "display_name": "Python 3"
    }
  },
  "cells": [
    {
      "cell_type": "markdown",
      "metadata": {
        "id": "view-in-github",
        "colab_type": "text"
      },
      "source": [
        "<a href=\"https://colab.research.google.com/github/shravaripatil/ADV/blob/main/ADV-C193.3.ipynb\" target=\"_parent\"><img src=\"https://colab.research.google.com/assets/colab-badge.svg\" alt=\"Open In Colab\"/></a>"
      ]
    },
    {
      "cell_type": "code",
      "metadata": {
        "id": "ysQWDTvV30ky"
      },
      "source": [
        "#Additional-Activity-3\r\n",
        "# Task description - Plot a bar graph for the men and women who do physical activity, and compare who who do more physical activity\r\n",
        "\r\n",
        "import pandas as pd\r\n",
        "import matplotlib.pyplot as plt \r\n",
        "\r\n",
        "df = pd.read_csv('https://shravaripatil.github.io/ADV/AA/cardiovascular.csv')\r\n",
        "df\r\n",
        "\r\n",
        "find_active_men = pd.merge(df.loc[df['gender'] == 2], df.loc[df['active'] ==1])\r\n",
        "active_men = find_active_men['active'].count()\r\n",
        "active_men\r\n",
        "\r\n",
        "find_active_women = pd.merge(df.loc[df['gender'] == 1], df.loc[df['active'] ==1])\r\n",
        "active_women = find_active_women['active'].count()\r\n",
        "active_women\r\n",
        "\r\n",
        "# Create a list with 2 values that is men and women and store it in \"name\" variable\r\n",
        "# Create a list with 2 values that is give active_men variable as 1st value and give active_women variable as the 2nd value and store it in \"number\" variable\r\n",
        "name = ['Men' , 'Women']\r\n",
        "number = [active_men , active_women]\r\n",
        "\r\n",
        "# Name the x axis of the plot using xlabel() function of matplotlib\r\n",
        "# Name the y axis of the plot using ylabel() function of matplotlib\r\n",
        "plt.xlabel(\"Gender\")\r\n",
        "plt.ylabel(\"Active\")\r\n",
        "\r\n",
        "# Define label variable and store name variable in label variable\r\n",
        "# Define value variable and store number variable in value variable\r\n",
        "# Plot the bar graph using bar() function, this function takes 4 parameters\r\n",
        "    # x axis varlues - which are stored in label variable\r\n",
        "    # y axis varlues - which are stored in value variable\r\n",
        "    # width -  this parameter takes width of the bar graphs\r\n",
        "    # color -  this parameter takes color of the bars in bar graph as there will only be 2 bars this parameter will take 2 color names in tuple format\r\n",
        "label = name\r\n",
        "value = number \r\n",
        "plt.bar(label, value,width=0.4, color=('lightblue','pink')) \r\n",
        "\r\n",
        "\r\n"
      ],
      "execution_count": null,
      "outputs": []
    }
  ]
}