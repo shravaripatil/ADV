{
  "nbformat": 4,
  "nbformat_minor": 0,
  "metadata": {
    "colab": {
      "name": "ADV-C190.5(Solution)",
      "provenance": [],
      "authorship_tag": "ABX9TyM1PcRaagZowuRZY58Revs/",
      "include_colab_link": true
    },
    "kernelspec": {
      "name": "python3",
      "display_name": "Python 3"
    }
  },
  "cells": [
    {
      "cell_type": "markdown",
      "metadata": {
        "id": "view-in-github",
        "colab_type": "text"
      },
      "source": [
        "<a href=\"https://colab.research.google.com/github/shravaripatil/ADV/blob/main/ADV_C191_5(Solution).ipynb\" target=\"_parent\"><img src=\"https://colab.research.google.com/assets/colab-badge.svg\" alt=\"Open In Colab\"/></a>"
      ]
    },
    {
      "cell_type": "code",
      "metadata": {
        "id": "c7tUyHtV9QwL"
      },
      "source": [
        "# 5th Additional Activity\r\n",
        "\r\n",
        "# 1st Task - Total number of Satellites own by the USA \r\n",
        "import pandas as pd\r\n",
        "from matplotlib import pyplot as plt\r\n",
        "\r\n",
        "dataframe = pd.read_csv('https://shravaripatil.github.io/ADV/AA/C191_satellite_data.csv')\r\n",
        "df = dataframe.dropna()\r\n",
        "\r\n",
        "# Selecting a particular section of data from the table - to learn more about indexing and selecting visit (https://www.geeksforgeeks.org/indexing-and-selecting-data-with-pandas/)\r\n",
        "''' As we want only what the satellites that are own by USA therefore we will select a the column 'Country of Operator/Owner' as this column tells who owns this\r\n",
        " particular satellite , therefore to check if which cell contain value as \"USA\" and select those row for this \r\n",
        "syntax:\r\n",
        "data['column_name'] == 'Value'\r\n",
        "where data - is the variable which contains the table\r\n",
        "column_name - is the column against which you want to check the Value\r\n",
        "Value - the value which you want to get selected\r\n",
        "This will check if the entires in this coulmns are euqal to Values\r\n",
        "\r\n",
        "We want that all the rows which contain \"USA\" entires in this \"Country of Operator/Owner\" column to get selected, then use - \r\n",
        "df.loc[] \r\n",
        "and pass data['column_name'] == 'Value' to it, as it will get all the rows which satisfy data['column_name'] == 'Value' this condition and store it in 'Purpose' variable\r\n",
        "'''\r\n",
        "Purpose = df.loc[df['Country of Operator/Owner'] == 'USA']\r\n",
        "\r\n",
        "\r\n",
        "# Now count the number of satellites owned by USA in 'Purpose' variable as this variable holds the table, \r\n",
        "# As the new table only consist of satellites with 'Country of Operator/Owner' as 'USA' ,Therefore the number of rows = number of satellites with the country as USA.\r\n",
        "# Therefore we can select any column name from this table and as we want the total  number of rows for this we will be using \"count()\" function. (Hint: Select the column and the use dot operator with count() function, to select the column - write the variable holding table and give any column name(eg 'Official Name of Satellite') in double quotes inside the square brackets)\r\n",
        "Purpose['Official Name of Satellite'].count()\r\n"
      ],
      "execution_count": null,
      "outputs": []
    }
  ]
}