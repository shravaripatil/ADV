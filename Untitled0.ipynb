{
  "nbformat": 4,
  "nbformat_minor": 0,
  "metadata": {
    "colab": {
      "name": "Untitled0.ipynb",
      "provenance": [],
      "authorship_tag": "ABX9TyPz4Fnx8MSbAuhYA4KlJC7P",
      "include_colab_link": true
    },
    "kernelspec": {
      "name": "python3",
      "display_name": "Python 3"
    }
  },
  "cells": [
    {
      "cell_type": "markdown",
      "metadata": {
        "id": "view-in-github",
        "colab_type": "text"
      },
      "source": [
        "<a href=\"https://colab.research.google.com/github/shravaripatil/ADV-C190/blob/main/Untitled0.ipynb\" target=\"_parent\"><img src=\"https://colab.research.google.com/assets/colab-badge.svg\" alt=\"Open In Colab\"/></a>"
      ]
    },
    {
      "cell_type": "code",
      "metadata": {
        "id": "ba4JLqQeFMzN"
      },
      "source": [
        "# 1st Additional Activity\r\n",
        "# 1st Task - Find out which country had sent the first Satellite in space and when \r\n",
        "# 2nd Task - Find out which country has send a Satellite recently in space\r\n",
        "\r\n",
        "import pandas as pd\r\n",
        "from matplotlib import pyplot as plt\r\n",
        "\r\n",
        "dataframe = pd.read_csv('C190_satellite_data.csv')\r\n",
        "df = dataframe.dropna() \r\n",
        "\r\n",
        "# Write code to sort the data table stored in variable \"df\" using sort_values() function and store the new table in a variable. \r\n",
        "# As we want to get the 1st satellite launched so we will use 'Date of Launch' column to sort the table.\r\n",
        "# (Hint - This function takes a parameter \"by\" which should be assigned a column name in square brackets based on which you want to sort the table.)\r\n",
        "\r\n",
        "\r\n",
        "# We want to print the country name of 1st satellite launched , so we will first select the column and then use head() function to get 1st row ()\r\n",
        "# (Hint: use variable holding the sorted data table and name of the column to be selected ('Country of Operator/Owner' as this column holds the country names) within sqaure bracket )\r\n",
        "\r\n",
        "\r\n",
        "print(\"----------\")\r\n",
        "# We want to print the launch date of 1st satellite launched , so we will first select the column and then use head() function to get 1st row ()\r\n",
        "# (Hint: use variable holding the sorted data table and name of the column to be selected ('Date of Launch' as this column holds the satellites launch date) within sqaure bracket )\r\n",
        "\r\n",
        "\r\n",
        "print(\"----------\")\r\n",
        "# We want to print the country name of satellite launched recently that is last, so we will first select the column and then use tail() function to get last row ()\r\n",
        "# (Hint: use variable holding the sorted data table and name of the column to be selected ('Country of Operator/Owner' as this column holds the country names) within sqaure bracket )\r\n",
        "\r\n",
        "\r\n",
        "print(\"----------\")\r\n",
        "# We want to print the launch date of satellite launched recently that is last, so we will first select the column and then use tail() function to get 1st row ()\r\n",
        "# (Hint: use variable holding the sorted data table and name of the column to be selected ('Date of Launch' as this column holds the satellites launch date) within sqaure bracket )\r\n",
        "\r\n"
      ],
      "execution_count": null,
      "outputs": []
    }
  ]
}